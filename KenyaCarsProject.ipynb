{
  "nbformat": 4,
  "nbformat_minor": 0,
  "metadata": {
    "colab": {
      "name": "KenyaCarsProject.ipynb",
      "provenance": [],
      "authorship_tag": "ABX9TyPN5gPLYfoojgiebDhDBvMz",
      "include_colab_link": true
    },
    "kernelspec": {
      "name": "python3",
      "display_name": "Python 3"
    },
    "language_info": {
      "name": "python"
    }
  },
  "cells": [
    {
      "cell_type": "markdown",
      "metadata": {
        "id": "view-in-github",
        "colab_type": "text"
      },
      "source": [
        "<a href=\"https://colab.research.google.com/github/pauxru/Kenya-s-Cars-Project/blob/main/KenyaCarsProject.ipynb\" target=\"_parent\"><img src=\"https://colab.research.google.com/assets/colab-badge.svg\" alt=\"Open In Colab\"/></a>"
      ]
    },
    {
      "cell_type": "markdown",
      "metadata": {
        "id": "Uk5DCfwshe3N"
      },
      "source": [
        "# I made this Notebook to help me gather and scrape data of cars in Kenya. I was able to scrap more than 46k cars and their details, which will be used for further analysis in the future. Just for fun and learning new stuff. **bold text**"
      ]
    },
    {
      "cell_type": "markdown",
      "metadata": {
        "id": "1kvrUpiViezk"
      },
      "source": [
        "**It is important to note that NO personal or confidential data of the ads was collected. I am a huge advocate of Data ethics and as a matter of princple, personal data is offf bound.**"
      ]
    },
    {
      "cell_type": "code",
      "metadata": {
        "colab": {
          "base_uri": "https://localhost:8080/"
        },
        "id": "DhVM7qf6jQd8",
        "outputId": "213bcb01-4568-4ad4-9a78-6ac926143437"
      },
      "source": [
        "pip install selenium"
      ],
      "execution_count": 2,
      "outputs": [
        {
          "output_type": "stream",
          "name": "stdout",
          "text": [
            "Collecting selenium\n",
            "  Downloading selenium-4.0.0-py3-none-any.whl (954 kB)\n",
            "\u001b[?25l\r\u001b[K     |▍                               | 10 kB 30.6 MB/s eta 0:00:01\r\u001b[K     |▊                               | 20 kB 38.0 MB/s eta 0:00:01\r\u001b[K     |█                               | 30 kB 26.6 MB/s eta 0:00:01\r\u001b[K     |█▍                              | 40 kB 20.6 MB/s eta 0:00:01\r\u001b[K     |█▊                              | 51 kB 16.5 MB/s eta 0:00:01\r\u001b[K     |██                              | 61 kB 11.8 MB/s eta 0:00:01\r\u001b[K     |██▍                             | 71 kB 12.8 MB/s eta 0:00:01\r\u001b[K     |██▊                             | 81 kB 14.2 MB/s eta 0:00:01\r\u001b[K     |███                             | 92 kB 14.3 MB/s eta 0:00:01\r\u001b[K     |███▍                            | 102 kB 13.9 MB/s eta 0:00:01\r\u001b[K     |███▊                            | 112 kB 13.9 MB/s eta 0:00:01\r\u001b[K     |████▏                           | 122 kB 13.9 MB/s eta 0:00:01\r\u001b[K     |████▌                           | 133 kB 13.9 MB/s eta 0:00:01\r\u001b[K     |████▉                           | 143 kB 13.9 MB/s eta 0:00:01\r\u001b[K     |█████▏                          | 153 kB 13.9 MB/s eta 0:00:01\r\u001b[K     |█████▌                          | 163 kB 13.9 MB/s eta 0:00:01\r\u001b[K     |█████▉                          | 174 kB 13.9 MB/s eta 0:00:01\r\u001b[K     |██████▏                         | 184 kB 13.9 MB/s eta 0:00:01\r\u001b[K     |██████▌                         | 194 kB 13.9 MB/s eta 0:00:01\r\u001b[K     |██████▉                         | 204 kB 13.9 MB/s eta 0:00:01\r\u001b[K     |███████▏                        | 215 kB 13.9 MB/s eta 0:00:01\r\u001b[K     |███████▌                        | 225 kB 13.9 MB/s eta 0:00:01\r\u001b[K     |████████                        | 235 kB 13.9 MB/s eta 0:00:01\r\u001b[K     |████████▎                       | 245 kB 13.9 MB/s eta 0:00:01\r\u001b[K     |████████▋                       | 256 kB 13.9 MB/s eta 0:00:01\r\u001b[K     |█████████                       | 266 kB 13.9 MB/s eta 0:00:01\r\u001b[K     |█████████▎                      | 276 kB 13.9 MB/s eta 0:00:01\r\u001b[K     |█████████▋                      | 286 kB 13.9 MB/s eta 0:00:01\r\u001b[K     |██████████                      | 296 kB 13.9 MB/s eta 0:00:01\r\u001b[K     |██████████▎                     | 307 kB 13.9 MB/s eta 0:00:01\r\u001b[K     |██████████▋                     | 317 kB 13.9 MB/s eta 0:00:01\r\u001b[K     |███████████                     | 327 kB 13.9 MB/s eta 0:00:01\r\u001b[K     |███████████▎                    | 337 kB 13.9 MB/s eta 0:00:01\r\u001b[K     |███████████▊                    | 348 kB 13.9 MB/s eta 0:00:01\r\u001b[K     |████████████                    | 358 kB 13.9 MB/s eta 0:00:01\r\u001b[K     |████████████▍                   | 368 kB 13.9 MB/s eta 0:00:01\r\u001b[K     |████████████▊                   | 378 kB 13.9 MB/s eta 0:00:01\r\u001b[K     |█████████████                   | 389 kB 13.9 MB/s eta 0:00:01\r\u001b[K     |█████████████▍                  | 399 kB 13.9 MB/s eta 0:00:01\r\u001b[K     |█████████████▊                  | 409 kB 13.9 MB/s eta 0:00:01\r\u001b[K     |██████████████                  | 419 kB 13.9 MB/s eta 0:00:01\r\u001b[K     |██████████████▍                 | 430 kB 13.9 MB/s eta 0:00:01\r\u001b[K     |██████████████▊                 | 440 kB 13.9 MB/s eta 0:00:01\r\u001b[K     |███████████████                 | 450 kB 13.9 MB/s eta 0:00:01\r\u001b[K     |███████████████▌                | 460 kB 13.9 MB/s eta 0:00:01\r\u001b[K     |███████████████▉                | 471 kB 13.9 MB/s eta 0:00:01\r\u001b[K     |████████████████▏               | 481 kB 13.9 MB/s eta 0:00:01\r\u001b[K     |████████████████▌               | 491 kB 13.9 MB/s eta 0:00:01\r\u001b[K     |████████████████▉               | 501 kB 13.9 MB/s eta 0:00:01\r\u001b[K     |█████████████████▏              | 512 kB 13.9 MB/s eta 0:00:01\r\u001b[K     |█████████████████▌              | 522 kB 13.9 MB/s eta 0:00:01\r\u001b[K     |█████████████████▉              | 532 kB 13.9 MB/s eta 0:00:01\r\u001b[K     |██████████████████▏             | 542 kB 13.9 MB/s eta 0:00:01\r\u001b[K     |██████████████████▌             | 552 kB 13.9 MB/s eta 0:00:01\r\u001b[K     |██████████████████▉             | 563 kB 13.9 MB/s eta 0:00:01\r\u001b[K     |███████████████████▎            | 573 kB 13.9 MB/s eta 0:00:01\r\u001b[K     |███████████████████▋            | 583 kB 13.9 MB/s eta 0:00:01\r\u001b[K     |████████████████████            | 593 kB 13.9 MB/s eta 0:00:01\r\u001b[K     |████████████████████▎           | 604 kB 13.9 MB/s eta 0:00:01\r\u001b[K     |████████████████████▋           | 614 kB 13.9 MB/s eta 0:00:01\r\u001b[K     |█████████████████████           | 624 kB 13.9 MB/s eta 0:00:01\r\u001b[K     |█████████████████████▎          | 634 kB 13.9 MB/s eta 0:00:01\r\u001b[K     |█████████████████████▋          | 645 kB 13.9 MB/s eta 0:00:01\r\u001b[K     |██████████████████████          | 655 kB 13.9 MB/s eta 0:00:01\r\u001b[K     |██████████████████████▎         | 665 kB 13.9 MB/s eta 0:00:01\r\u001b[K     |██████████████████████▋         | 675 kB 13.9 MB/s eta 0:00:01\r\u001b[K     |███████████████████████         | 686 kB 13.9 MB/s eta 0:00:01\r\u001b[K     |███████████████████████▍        | 696 kB 13.9 MB/s eta 0:00:01\r\u001b[K     |███████████████████████▊        | 706 kB 13.9 MB/s eta 0:00:01\r\u001b[K     |████████████████████████        | 716 kB 13.9 MB/s eta 0:00:01\r\u001b[K     |████████████████████████▍       | 727 kB 13.9 MB/s eta 0:00:01\r\u001b[K     |████████████████████████▊       | 737 kB 13.9 MB/s eta 0:00:01\r\u001b[K     |█████████████████████████       | 747 kB 13.9 MB/s eta 0:00:01\r\u001b[K     |█████████████████████████▍      | 757 kB 13.9 MB/s eta 0:00:01\r\u001b[K     |█████████████████████████▊      | 768 kB 13.9 MB/s eta 0:00:01\r\u001b[K     |██████████████████████████      | 778 kB 13.9 MB/s eta 0:00:01\r\u001b[K     |██████████████████████████▍     | 788 kB 13.9 MB/s eta 0:00:01\r\u001b[K     |██████████████████████████▉     | 798 kB 13.9 MB/s eta 0:00:01\r\u001b[K     |███████████████████████████▏    | 808 kB 13.9 MB/s eta 0:00:01\r\u001b[K     |███████████████████████████▌    | 819 kB 13.9 MB/s eta 0:00:01\r\u001b[K     |███████████████████████████▉    | 829 kB 13.9 MB/s eta 0:00:01\r\u001b[K     |████████████████████████████▏   | 839 kB 13.9 MB/s eta 0:00:01\r\u001b[K     |████████████████████████████▌   | 849 kB 13.9 MB/s eta 0:00:01\r\u001b[K     |████████████████████████████▉   | 860 kB 13.9 MB/s eta 0:00:01\r\u001b[K     |█████████████████████████████▏  | 870 kB 13.9 MB/s eta 0:00:01\r\u001b[K     |█████████████████████████████▌  | 880 kB 13.9 MB/s eta 0:00:01\r\u001b[K     |█████████████████████████████▉  | 890 kB 13.9 MB/s eta 0:00:01\r\u001b[K     |██████████████████████████████▏ | 901 kB 13.9 MB/s eta 0:00:01\r\u001b[K     |██████████████████████████████▋ | 911 kB 13.9 MB/s eta 0:00:01\r\u001b[K     |███████████████████████████████ | 921 kB 13.9 MB/s eta 0:00:01\r\u001b[K     |███████████████████████████████▎| 931 kB 13.9 MB/s eta 0:00:01\r\u001b[K     |███████████████████████████████▋| 942 kB 13.9 MB/s eta 0:00:01\r\u001b[K     |████████████████████████████████| 952 kB 13.9 MB/s eta 0:00:01\r\u001b[K     |████████████████████████████████| 954 kB 13.9 MB/s \n",
            "\u001b[?25hCollecting trio~=0.17\n",
            "  Downloading trio-0.19.0-py3-none-any.whl (356 kB)\n",
            "\u001b[K     |████████████████████████████████| 356 kB 67.4 MB/s \n",
            "\u001b[?25hCollecting trio-websocket~=0.9\n",
            "  Downloading trio_websocket-0.9.2-py3-none-any.whl (16 kB)\n",
            "Collecting urllib3[secure]~=1.26\n",
            "  Downloading urllib3-1.26.7-py2.py3-none-any.whl (138 kB)\n",
            "\u001b[K     |████████████████████████████████| 138 kB 72.2 MB/s \n",
            "\u001b[?25hRequirement already satisfied: attrs>=19.2.0 in /usr/local/lib/python3.7/dist-packages (from trio~=0.17->selenium) (21.2.0)\n",
            "Requirement already satisfied: sortedcontainers in /usr/local/lib/python3.7/dist-packages (from trio~=0.17->selenium) (2.4.0)\n",
            "Collecting async-generator>=1.9\n",
            "  Downloading async_generator-1.10-py3-none-any.whl (18 kB)\n",
            "Collecting sniffio\n",
            "  Downloading sniffio-1.2.0-py3-none-any.whl (10 kB)\n",
            "Requirement already satisfied: idna in /usr/local/lib/python3.7/dist-packages (from trio~=0.17->selenium) (2.10)\n",
            "Collecting outcome\n",
            "  Downloading outcome-1.1.0-py2.py3-none-any.whl (9.7 kB)\n",
            "Collecting wsproto>=0.14\n",
            "  Downloading wsproto-1.0.0-py3-none-any.whl (24 kB)\n",
            "Requirement already satisfied: certifi in /usr/local/lib/python3.7/dist-packages (from urllib3[secure]~=1.26->selenium) (2021.10.8)\n",
            "Collecting cryptography>=1.3.4\n",
            "  Downloading cryptography-36.0.0-cp36-abi3-manylinux_2_24_x86_64.whl (3.6 MB)\n",
            "\u001b[K     |████████████████████████████████| 3.6 MB 44.0 MB/s \n",
            "\u001b[?25hCollecting pyOpenSSL>=0.14\n",
            "  Downloading pyOpenSSL-21.0.0-py2.py3-none-any.whl (55 kB)\n",
            "\u001b[K     |████████████████████████████████| 55 kB 3.3 MB/s \n",
            "\u001b[?25hRequirement already satisfied: cffi>=1.12 in /usr/local/lib/python3.7/dist-packages (from cryptography>=1.3.4->urllib3[secure]~=1.26->selenium) (1.15.0)\n",
            "Requirement already satisfied: pycparser in /usr/local/lib/python3.7/dist-packages (from cffi>=1.12->cryptography>=1.3.4->urllib3[secure]~=1.26->selenium) (2.21)\n",
            "Requirement already satisfied: six>=1.5.2 in /usr/local/lib/python3.7/dist-packages (from pyOpenSSL>=0.14->urllib3[secure]~=1.26->selenium) (1.15.0)\n",
            "Collecting h11<1,>=0.9.0\n",
            "  Downloading h11-0.12.0-py3-none-any.whl (54 kB)\n",
            "\u001b[K     |████████████████████████████████| 54 kB 2.9 MB/s \n",
            "\u001b[?25hInstalling collected packages: sniffio, outcome, h11, cryptography, async-generator, wsproto, urllib3, trio, pyOpenSSL, trio-websocket, selenium\n",
            "  Attempting uninstall: urllib3\n",
            "    Found existing installation: urllib3 1.24.3\n",
            "    Uninstalling urllib3-1.24.3:\n",
            "      Successfully uninstalled urllib3-1.24.3\n",
            "\u001b[31mERROR: pip's dependency resolver does not currently take into account all the packages that are installed. This behaviour is the source of the following dependency conflicts.\n",
            "requests 2.23.0 requires urllib3!=1.25.0,!=1.25.1,<1.26,>=1.21.1, but you have urllib3 1.26.7 which is incompatible.\n",
            "datascience 0.10.6 requires folium==0.2.1, but you have folium 0.8.3 which is incompatible.\u001b[0m\n",
            "Successfully installed async-generator-1.10 cryptography-36.0.0 h11-0.12.0 outcome-1.1.0 pyOpenSSL-21.0.0 selenium-4.0.0 sniffio-1.2.0 trio-0.19.0 trio-websocket-0.9.2 urllib3-1.26.7 wsproto-1.0.0\n"
          ]
        }
      ]
    },
    {
      "cell_type": "code",
      "metadata": {
        "colab": {
          "base_uri": "https://localhost:8080/"
        },
        "id": "O_9rGu36iALs",
        "outputId": "49a283d7-4263-42c9-c6d4-7320531f8e3f"
      },
      "source": [
        "#This cell opens up the browser and fetches the website url\n",
        "# I used www.jiji.co.ke to scrape the data.\n",
        "\n",
        "import time\n",
        "from selenium.webdriver.support.ui import WebDriverWait\n",
        "from selenium.webdriver.common.by import By\n",
        "from selenium import webdriver\n",
        "\n",
        "def start_jiji():\n",
        "    try:\n",
        "        print(\"Please Wait. Launching Chrome\")\n",
        "        global browser\n",
        "        options = webdriver.ChromeOptions()\n",
        "        options.page_load_strategy = 'normal'\n",
        "        prefs = {\"profile.default_content_setting_values.notifications\": 2,\n",
        "                 \"credentials_enable_service\": False,\n",
        "                 \"profile.password_manager_enabled\": False}\n",
        "        options.add_experimental_option(\"prefs\", prefs)\n",
        "        # options.add_argument(\"start-maximized\")\n",
        "        options.add_argument(\"--disable-extensions\")\n",
        "        options.add_experimental_option(\"excludeSwitches\", [\"enable-automation\"])\n",
        "        options.add_experimental_option('useAutomationExtension', False)\n",
        "        # Here input the location of your chromedriver like I have, haha. \n",
        "        # Otherwise you will get an error like the one shown on the output\n",
        "        browser = webdriver.Chrome(options=options,\n",
        "                                   executable_path=r'C:\\Program Files\\Google\\Chrome\\Application\\chromedriver.exe')\n",
        "        time.sleep(2)\n",
        "        browser.set_window_size(1225, 960)\n",
        "        print(\"Browser launched successfully\")\n",
        "        launch()\n",
        "    except Exception as e:\n",
        "        print(\"This error122: \", e)\n",
        "        \n",
        "def launch():\n",
        "    if __name__ == '__main__':\n",
        "\n",
        "        try:\n",
        "            browser.get('https://jiji.co.ke/cars')\n",
        "            time.sleep(2)\n",
        "        except TimeoutException:\n",
        "            print(\"Connection Timeout\")  # More needs to be done here.\n",
        "\n",
        "            pass\n",
        "        except NoSuchElementException:\n",
        "            print(\"Logged in already\")\n",
        "\n",
        "            pass\n",
        "        except ElementClickInterceptedException:\n",
        "            print(\"Clicking error\")\n",
        "            pass\n",
        "        except Exception as e:\n",
        "            print(\"Failed to launch. Trying again\", e)\n",
        "\n",
        "start_jiji()\n",
        "\n"
      ],
      "execution_count": 4,
      "outputs": [
        {
          "output_type": "stream",
          "name": "stdout",
          "text": [
            "Please Wait. Launching Chrome\n",
            "This error122:  Message: 'C:\\Program Files\\Google\\Chrome\\Application\\chromedriver.exe' executable needs to be in PATH. Please see https://chromedriver.chromium.org/home\n",
            "\n"
          ]
        },
        {
          "output_type": "stream",
          "name": "stderr",
          "text": [
            "/usr/local/lib/python3.7/dist-packages/ipykernel_launcher.py:26: DeprecationWarning: executable_path has been deprecated, please pass in a Service object\n"
          ]
        }
      ]
    },
    {
      "cell_type": "code",
      "metadata": {
        "id": "pbyIfEzyjJ4r"
      },
      "source": [
        "# Class name was the best element for scrapint the website\n",
        "for cars in browser.find_elements_by_class_name('b-list-advert__item-wrapper'):\n",
        "    print(cars.text)"
      ],
      "execution_count": null,
      "outputs": []
    },
    {
      "cell_type": "code",
      "metadata": {
        "id": "z0qxWzfAj9nF"
      },
      "source": [
        "# If you want to explore the ad page, here is the command. I did not open it while scraping.\n",
        "browser.find_element_by_class_name('b-list-advert__item-wrapper').click()"
      ],
      "execution_count": null,
      "outputs": []
    },
    {
      "cell_type": "code",
      "metadata": {
        "id": "nz_mZ3WmkLwb"
      },
      "source": [
        "# Moti is car in contemporary swahili, I am not terrible at naming variables\n",
        "\n",
        "# This code just takes several info on the ad page\n",
        "moti = []\n",
        "ad_title = browser.find_element_by_class_name('b-advert-title-outer').text\n",
        "title_components = ad_title.split(\" \")\n",
        "yom = [int(i) for i in title_components if i.isdigit()]\n",
        "\n",
        "make = title_components[0]\n",
        "model = title_components[1]\n",
        "color = title_components[-1]\n",
        "moti.append(make)\n",
        "moti.append(model)\n",
        "moti.append(yom[0])\n",
        "moti.append(color)\n",
        "print(moti)"
      ],
      "execution_count": null,
      "outputs": []
    },
    {
      "cell_type": "code",
      "metadata": {
        "id": "IOwNGMLYklmj"
      },
      "source": [
        "# From the above, a cleaned and more suitable list of the ad is found through this code\n",
        "details = browser.find_elements_by_class_name('b-advert-icon-attribute')\n",
        "det = []\n",
        "for d in details:\n",
        "    det.append(d.text)\n",
        "used = det[0]\n",
        "moti.append(used)\n",
        "transmission = det[1]\n",
        "moti.append(transmission)\n",
        "milage = det[2]\n",
        "moti.append(milage)\n",
        "print(moti)"
      ],
      "execution_count": null,
      "outputs": []
    },
    {
      "cell_type": "markdown",
      "metadata": {
        "id": "wGsyYttSk8ek"
      },
      "source": [
        "# Below it the code I used to scrape the Data after trying above method and finding them not appropriate"
      ]
    },
    {
      "cell_type": "code",
      "metadata": {
        "id": "I-ucapYvkz-j"
      },
      "source": [
        "many_cars = browser.find_elements_by_class_name('b-list-advert__item-wrapper')\n",
        "\n",
        "car_needed_details = []\n",
        "for car in many_cars:\n",
        "    car_details_split = car.text.splitlines()\n",
        "    if \"TOP\" in car_details_split[0]:\n",
        "        car_details_split.pop(0)\n",
        "    car_details_split.pop(0)\n",
        "    #ar_details_split.pop(0)\n",
        "    if \"Sponsored\" in car_details_split[-1]:\n",
        "        car_details_split.pop(-1)\n",
        "    #rint(car_details_split)\n",
        "    \n",
        "    #or attributes in car_full_details:\n",
        "    details = car_details_split[0].split()\n",
        "    make = details[0]\n",
        "    model = details[1]\n",
        "    if details[0] == \"Romeo\":\n",
        "        make = \"Alfa Romeo\"\n",
        "        model = details[2]\n",
        "    if details[0] == \"Land\":\n",
        "        make = \"Land Rover\"\n",
        "        model = details[2]\n",
        "    if details[0] == \"Other\":\n",
        "        make = \"Other Make\"\n",
        "        model = details[2]\n",
        "    if details[0] == \"Great\":\n",
        "        make = \"Great Wall\"\n",
        "        model = details[2]\n",
        "    if details[0] == \"New\":\n",
        "        make = details[1]\n",
        "        model = details[2]\n",
        "    yom = \"Unkown\"\n",
        "    digits = [int(i) for i in details if i.isdigit()]\n",
        "    for yr in digits:\n",
        "        if yr > 1930 and yr < 2022:\n",
        "            yom = yr\n",
        "            \n",
        "    color = details[-1]\n",
        "    price = car_details_split[1]\n",
        "    \n",
        "    #print(price[1])       \n",
        "    description = \"Unavailable\"\n",
        "    description = car_details_split[2]\n",
        "    used = \"Unavailable\"\n",
        "    used = car_details_split[3]\n",
        "    transmission = \"Unavailable\"\n",
        "    transmission = car_details_split[4]\n",
        "    \n",
        "    if len(car_details_split) == 8:\n",
        "        miliage = int(car_details_split[5])\n",
        "        location = car_details_split[7]\n",
        "    else:\n",
        "        miliage = \"Unavailable\"\n",
        "        try:\n",
        "            location = car_details_split[5]\n",
        "        except IndexError:\n",
        "            location = \"Unavailable\"\n",
        "    \n",
        "    car_full_details = []\n",
        "    car_full_details.append(model)\n",
        "    car_full_details.append(make)\n",
        "    car_full_details.append(yom)\n",
        "    car_full_details.append(color)\n",
        "    car_full_details.append(used)\n",
        "    car_full_details.append(transmission)\n",
        "    car_full_details.append(miliage)\n",
        "    car_full_details.append(location)\n",
        "    car_full_details.append(price)\n",
        "    car_needed_details.append(car_full_details)\n",
        "    \n",
        "print(len(car_needed_details))\n",
        "print(car_needed_details)"
      ],
      "execution_count": null,
      "outputs": []
    },
    {
      "cell_type": "code",
      "metadata": {
        "id": "U-uYcoVylK9E"
      },
      "source": [
        "# Here i append the more dynamic output of the above code to a less volatile variable\n",
        "#all_moti.clear()\n",
        "for things in car_needed_details:\n",
        "    all_moti.append(things)\n",
        "print(len(all_moti))\n",
        "print(all_moti)"
      ],
      "execution_count": null,
      "outputs": []
    },
    {
      "cell_type": "code",
      "metadata": {
        "id": "zE4QdHL1lWNU"
      },
      "source": [
        "# Data storage in excel form (xlsx) format \n",
        "new_list = all_moti\n",
        "with xlsxwriter.Workbook('bigcars14.xlsx') as workbook:\n",
        "    worksheet = workbook.add_worksheet()\n",
        "\n",
        "    for row_num, data in enumerate(new_list):\n",
        "        worksheet.write_row(row_num, 0, data)\n",
        "\n",
        "# Sleek, huh."
      ],
      "execution_count": null,
      "outputs": []
    },
    {
      "cell_type": "code",
      "metadata": {
        "id": "JycIf9oHlqCT"
      },
      "source": [
        "# Something funny, for the website to render many ads, one has to scroll to the \n",
        "# bottom of the page for more ads. Behold my infinite scroller.\n",
        "scroll = 2\n",
        "while scroll > 0:\n",
        "    browser.execute_script(\"window.scrollTo(0, document.body.scrollHeight);\")"
      ],
      "execution_count": null,
      "outputs": []
    },
    {
      "cell_type": "code",
      "metadata": {
        "id": "uRImSj4YmIIX"
      },
      "source": [
        "# HAd this but I did not use it anyway. Boy Toyota has alot of models in Kenya\n",
        "Toyota_models = {'Land Cruiser Prado', 'Hilux', 'Fielder', 'Harrier', 'Vitz', '4-Runner',\n",
        "                 'Allex', 'Allion', 'Alphard', 'Altezza', 'Aqua', 'Aristo', 'Auris', 'Avalon',\n",
        "                 'Avanza', 'Avensis', 'Axio', 'bB', 'Belta', 'Blade', 'C-HR', 'Caldina', 'Cami',\n",
        "                 'Camry', 'Carib', 'Carina', 'Celica', 'Celica GT-Four', 'Corolla', 'Corolla Altis',\n",
        "                 'Corolla Ceres', 'Corolla Fielder', 'Corolla II', 'Corolla Rumion', 'Corolla RunX',\n",
        "                 'Corolla Spacio', 'Corolla Verso', 'Corona', 'Corona Premio', 'Corsa', 'Cressida',\n",
        "                 'Crown', 'Crown Majesta', 'Duet', 'Estima', 'FJ Cruiser', 'Fortuner', 'Fun Cargo',\n",
        "                 'Gaia', 'GT86', 'HiAce', 'Highlander', 'Hilux Surf', 'Ipsum', 'iQ', 'ISIS', 'IST',\n",
        "                 'Kluger', 'Land Cruiser', 'Land Cruiser Cygnus', 'Lexcen', 'Lite-Ace', 'Mark II',\n",
        "                 'Mark II Blit', 'Mark II Qualis', 'Mark X', 'Mark X Zio', 'MR-S', 'Nadia', 'Noah',\n",
        "                 'Opa', 'Paseo', 'Passo', 'Picnic', 'Pixis', 'Pixis Epoch', 'Platz', 'Porte',\n",
        "                 'Premio', 'Prius', 'Probox', 'Progress', 'Ractis', 'Raum', 'RAV4', 'Roomy',\n",
        "                 'Rush', 'Sai', 'Sienna', 'Sienta', 'Spade', 'Sprinter', 'Stallion', 'Starlet',\n",
        "                 'Succeed', 'Supra', 'T100', 'TownAce', 'Vanguard', 'Vellfire', 'Verossa', 'Vista',\n",
        "                 'Voxy', 'Will', 'Wish', 'Yaris'}"
      ],
      "execution_count": null,
      "outputs": []
    }
  ]
}